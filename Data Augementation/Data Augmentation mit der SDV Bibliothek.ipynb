{
 "cells": [
  {
   "cell_type": "code",
   "execution_count": 1,
   "metadata": {},
   "outputs": [
    {
     "name": "stdout",
     "output_type": "stream",
     "text": [
      "Requirement already satisfied: pandas in /Users/huyduc/anaconda3/envs/anacondaforarm/lib/python3.9/site-packages (2.0.2)\n",
      "Requirement already satisfied: sdv in /Users/huyduc/anaconda3/envs/anacondaforarm/lib/python3.9/site-packages (1.7.0)\n",
      "Collecting table_evaluator\n",
      "  Downloading table_evaluator-1.6.1-py3-none-any.whl (22 kB)\n",
      "Requirement already satisfied: python-dateutil>=2.8.2 in /Users/huyduc/anaconda3/envs/anacondaforarm/lib/python3.9/site-packages (from pandas) (2.8.2)\n",
      "Requirement already satisfied: pytz>=2020.1 in /Users/huyduc/anaconda3/envs/anacondaforarm/lib/python3.9/site-packages (from pandas) (2022.7)\n",
      "Requirement already satisfied: tzdata>=2022.1 in /Users/huyduc/anaconda3/envs/anacondaforarm/lib/python3.9/site-packages (from pandas) (2023.3)\n",
      "Requirement already satisfied: numpy>=1.20.3 in /Users/huyduc/anaconda3/envs/anacondaforarm/lib/python3.9/site-packages (from pandas) (1.25.0)\n",
      "Requirement already satisfied: boto3<2,>=1.15.0 in /Users/huyduc/anaconda3/envs/anacondaforarm/lib/python3.9/site-packages (from sdv) (1.33.6)\n",
      "Requirement already satisfied: botocore<2,>=1.18 in /Users/huyduc/anaconda3/envs/anacondaforarm/lib/python3.9/site-packages (from sdv) (1.33.6)\n",
      "Requirement already satisfied: cloudpickle<3.0,>=2.1.0 in /Users/huyduc/anaconda3/envs/anacondaforarm/lib/python3.9/site-packages (from sdv) (2.2.1)\n",
      "Requirement already satisfied: graphviz<1,>=0.13.2 in /Users/huyduc/anaconda3/envs/anacondaforarm/lib/python3.9/site-packages (from sdv) (0.20.1)\n",
      "Requirement already satisfied: tqdm<5,>=4.15 in /Users/huyduc/anaconda3/envs/anacondaforarm/lib/python3.9/site-packages (from sdv) (4.65.0)\n",
      "Requirement already satisfied: copulas<0.10,>=0.9.0 in /Users/huyduc/anaconda3/envs/anacondaforarm/lib/python3.9/site-packages (from sdv) (0.9.2)\n",
      "Requirement already satisfied: ctgan<0.8,>=0.7.4 in /Users/huyduc/anaconda3/envs/anacondaforarm/lib/python3.9/site-packages (from sdv) (0.7.5)\n",
      "Requirement already satisfied: deepecho<0.6,>=0.5 in /Users/huyduc/anaconda3/envs/anacondaforarm/lib/python3.9/site-packages (from sdv) (0.5.0)\n",
      "Requirement already satisfied: rdt<2,>=1.9.0 in /Users/huyduc/anaconda3/envs/anacondaforarm/lib/python3.9/site-packages (from sdv) (1.9.0)\n",
      "Requirement already satisfied: sdmetrics<0.13,>=0.12.1 in /Users/huyduc/anaconda3/envs/anacondaforarm/lib/python3.9/site-packages (from sdv) (0.12.1)\n",
      "Requirement already satisfied: psutil in /Users/huyduc/anaconda3/envs/anacondaforarm/lib/python3.9/site-packages (from table_evaluator) (5.9.0)\n",
      "Collecting dython==0.7.3 (from table_evaluator)\n",
      "  Downloading dython-0.7.3-py3-none-any.whl (23 kB)\n",
      "Requirement already satisfied: seaborn in /Users/huyduc/anaconda3/envs/anacondaforarm/lib/python3.9/site-packages (from table_evaluator) (0.12.2)\n",
      "Requirement already satisfied: matplotlib in /Users/huyduc/anaconda3/envs/anacondaforarm/lib/python3.9/site-packages (from table_evaluator) (3.7.1)\n",
      "Requirement already satisfied: scikit-learn in /Users/huyduc/anaconda3/envs/anacondaforarm/lib/python3.9/site-packages (from table_evaluator) (1.3.1)\n",
      "Requirement already satisfied: scipy in /Users/huyduc/anaconda3/envs/anacondaforarm/lib/python3.9/site-packages (from table_evaluator) (1.10.1)\n",
      "Collecting scikit-plot>=0.3.7 (from dython==0.7.3->table_evaluator)\n",
      "  Downloading scikit_plot-0.3.7-py3-none-any.whl (33 kB)\n",
      "Collecting psutil (from table_evaluator)\n",
      "  Downloading psutil-5.9.7-cp38-abi3-macosx_11_0_arm64.whl (246 kB)\n",
      "\u001b[2K     \u001b[90m━━━━━━━━━━━━━━━━━━━━━━━━━━━━━━━━━━━━━━━\u001b[0m \u001b[32m246.7/246.7 kB\u001b[0m \u001b[31m7.4 MB/s\u001b[0m eta \u001b[36m0:00:00\u001b[0m\n",
      "\u001b[?25hRequirement already satisfied: jmespath<2.0.0,>=0.7.1 in /Users/huyduc/anaconda3/envs/anacondaforarm/lib/python3.9/site-packages (from boto3<2,>=1.15.0->sdv) (1.0.1)\n",
      "Requirement already satisfied: s3transfer<0.9.0,>=0.8.2 in /Users/huyduc/anaconda3/envs/anacondaforarm/lib/python3.9/site-packages (from boto3<2,>=1.15.0->sdv) (0.8.2)\n",
      "Requirement already satisfied: urllib3<1.27,>=1.25.4 in /Users/huyduc/anaconda3/envs/anacondaforarm/lib/python3.9/site-packages (from botocore<2,>=1.18->sdv) (1.26.16)\n",
      "Requirement already satisfied: torch>=1.8.0 in /Users/huyduc/anaconda3/envs/anacondaforarm/lib/python3.9/site-packages (from ctgan<0.8,>=0.7.4->sdv) (1.12.1)\n",
      "Requirement already satisfied: contourpy>=1.0.1 in /Users/huyduc/anaconda3/envs/anacondaforarm/lib/python3.9/site-packages (from matplotlib->table_evaluator) (1.1.0)\n",
      "Requirement already satisfied: cycler>=0.10 in /Users/huyduc/anaconda3/envs/anacondaforarm/lib/python3.9/site-packages (from matplotlib->table_evaluator) (0.11.0)\n",
      "Requirement already satisfied: fonttools>=4.22.0 in /Users/huyduc/anaconda3/envs/anacondaforarm/lib/python3.9/site-packages (from matplotlib->table_evaluator) (4.40.0)\n",
      "Requirement already satisfied: kiwisolver>=1.0.1 in /Users/huyduc/anaconda3/envs/anacondaforarm/lib/python3.9/site-packages (from matplotlib->table_evaluator) (1.4.4)\n",
      "Requirement already satisfied: packaging>=20.0 in /Users/huyduc/anaconda3/envs/anacondaforarm/lib/python3.9/site-packages (from matplotlib->table_evaluator) (23.0)\n",
      "Requirement already satisfied: pillow>=6.2.0 in /Users/huyduc/anaconda3/envs/anacondaforarm/lib/python3.9/site-packages (from matplotlib->table_evaluator) (9.4.0)\n",
      "Requirement already satisfied: pyparsing>=2.3.1 in /Users/huyduc/anaconda3/envs/anacondaforarm/lib/python3.9/site-packages (from matplotlib->table_evaluator) (3.1.0)\n",
      "Requirement already satisfied: importlib-resources>=3.2.0 in /Users/huyduc/anaconda3/envs/anacondaforarm/lib/python3.9/site-packages (from matplotlib->table_evaluator) (5.12.0)\n",
      "Requirement already satisfied: six>=1.5 in /Users/huyduc/anaconda3/envs/anacondaforarm/lib/python3.9/site-packages (from python-dateutil>=2.8.2->pandas) (1.16.0)\n",
      "Requirement already satisfied: Faker<20,>=17 in /Users/huyduc/anaconda3/envs/anacondaforarm/lib/python3.9/site-packages (from rdt<2,>=1.9.0->sdv) (19.13.0)\n",
      "Requirement already satisfied: joblib>=1.1.1 in /Users/huyduc/anaconda3/envs/anacondaforarm/lib/python3.9/site-packages (from scikit-learn->table_evaluator) (1.2.0)\n",
      "Requirement already satisfied: threadpoolctl>=2.0.0 in /Users/huyduc/anaconda3/envs/anacondaforarm/lib/python3.9/site-packages (from scikit-learn->table_evaluator) (3.1.0)\n",
      "Requirement already satisfied: plotly<6,>=5.10.0 in /Users/huyduc/anaconda3/envs/anacondaforarm/lib/python3.9/site-packages (from sdmetrics<0.13,>=0.12.1->sdv) (5.15.0)\n",
      "Requirement already satisfied: zipp>=3.1.0 in /Users/huyduc/anaconda3/envs/anacondaforarm/lib/python3.9/site-packages (from importlib-resources>=3.2.0->matplotlib->table_evaluator) (3.11.0)\n",
      "Requirement already satisfied: tenacity>=6.2.0 in /Users/huyduc/anaconda3/envs/anacondaforarm/lib/python3.9/site-packages (from plotly<6,>=5.10.0->sdmetrics<0.13,>=0.12.1->sdv) (8.2.2)\n",
      "Requirement already satisfied: typing_extensions in /Users/huyduc/anaconda3/envs/anacondaforarm/lib/python3.9/site-packages (from torch>=1.8.0->ctgan<0.8,>=0.7.4->sdv) (4.6.3)\n",
      "Installing collected packages: psutil, scikit-plot, dython, table_evaluator\n",
      "  Attempting uninstall: psutil\n",
      "    Found existing installation: psutil 5.9.0\n",
      "    Uninstalling psutil-5.9.0:\n",
      "      Successfully uninstalled psutil-5.9.0\n",
      "Successfully installed dython-0.7.3 psutil-5.9.7 scikit-plot-0.3.7 table_evaluator-1.6.1\n"
     ]
    }
   ],
   "source": [
    "import sys\n",
    "!{sys.executable} -m pip install pandas sdv table_evaluator"
   ]
  },
  {
   "cell_type": "code",
   "execution_count": 4,
   "metadata": {},
   "outputs": [],
   "source": [
    "# Importieren der benötigten Bibliotheken\n",
    "\n",
    "import pandas as pd\n",
    "import sdv\n",
    "from sdv.single_table import CTGANSynthesizer\n",
    "from sdv.metadata import SingleTableMetadata\n",
    "from sdv.evaluation.single_table import evaluate_quality\n",
    "from table_evaluator import load_data, TableEvaluator"
   ]
  },
  {
   "cell_type": "code",
   "execution_count": null,
   "metadata": {},
   "outputs": [],
   "source": []
  },
  {
   "cell_type": "code",
   "execution_count": 5,
   "metadata": {},
   "outputs": [],
   "source": [
    "# Einspielen des Datensatzes\n",
    "kadeco=pd.read_csv(\"kadeco_cleaned.csv\")\n",
    "data= kadeco\n",
    "#Reduzieren des Datensatzes auf die nötigen Features\n",
    "data=data[['deliverer', 'country', 'size','weight', 'amount', 'product', 'is_damaged']]\n",
    "data=pd.get_dummies(data)# One Hot Encoding des Datensatzes mit einer Methode aus der Pandas Bibliothek"
   ]
  },
  {
   "cell_type": "code",
   "execution_count": 6,
   "metadata": {},
   "outputs": [],
   "source": [
    "metadata = SingleTableMetadata()\n",
    "metadata.detect_from_dataframe(data=data)\n"
   ]
  },
  {
   "cell_type": "code",
   "execution_count": 11,
   "metadata": {},
   "outputs": [],
   "source": [
    "synthesizer = CTGANSynthesizer(metadata\n",
    "                               #,epochs=300\n",
    "                               )"
   ]
  },
  {
   "cell_type": "code",
   "execution_count": 8,
   "metadata": {},
   "outputs": [
    {
     "ename": "KeyboardInterrupt",
     "evalue": "",
     "output_type": "error",
     "traceback": [
      "\u001b[0;31m---------------------------------------------------------------------------\u001b[0m",
      "\u001b[0;31mKeyboardInterrupt\u001b[0m                         Traceback (most recent call last)",
      "Cell \u001b[0;32mIn[8], line 1\u001b[0m\n\u001b[0;32m----> 1\u001b[0m synthesizer\u001b[39m.\u001b[39;49mfit(data)\n\u001b[1;32m      2\u001b[0m synthesizer\u001b[39m.\u001b[39msave(\u001b[39m\"\u001b[39m\u001b[39mctgan_augmenter.pkl\u001b[39m\u001b[39m\"\u001b[39m)\n",
      "File \u001b[0;32m~/anaconda3/envs/anacondaforarm/lib/python3.9/site-packages/sdv/single_table/base.py:437\u001b[0m, in \u001b[0;36mBaseSynthesizer.fit\u001b[0;34m(self, data)\u001b[0m\n\u001b[1;32m    435\u001b[0m \u001b[39mself\u001b[39m\u001b[39m.\u001b[39m_random_state_set \u001b[39m=\u001b[39m \u001b[39mFalse\u001b[39;00m\n\u001b[1;32m    436\u001b[0m processed_data \u001b[39m=\u001b[39m \u001b[39mself\u001b[39m\u001b[39m.\u001b[39m_preprocess(data)\n\u001b[0;32m--> 437\u001b[0m \u001b[39mself\u001b[39;49m\u001b[39m.\u001b[39;49mfit_processed_data(processed_data)\n",
      "File \u001b[0;32m~/anaconda3/envs/anacondaforarm/lib/python3.9/site-packages/sdv/single_table/base.py:420\u001b[0m, in \u001b[0;36mBaseSynthesizer.fit_processed_data\u001b[0;34m(self, processed_data)\u001b[0m\n\u001b[1;32m    413\u001b[0m \u001b[39m\u001b[39m\u001b[39m\"\"\"Fit this model to the transformed data.\u001b[39;00m\n\u001b[1;32m    414\u001b[0m \n\u001b[1;32m    415\u001b[0m \u001b[39mArgs:\u001b[39;00m\n\u001b[1;32m    416\u001b[0m \u001b[39m    processed_data (pandas.DataFrame):\u001b[39;00m\n\u001b[1;32m    417\u001b[0m \u001b[39m        The transformed data used to fit the model to.\u001b[39;00m\n\u001b[1;32m    418\u001b[0m \u001b[39m\"\"\"\u001b[39;00m\n\u001b[1;32m    419\u001b[0m \u001b[39mif\u001b[39;00m \u001b[39mnot\u001b[39;00m processed_data\u001b[39m.\u001b[39mempty:\n\u001b[0;32m--> 420\u001b[0m     \u001b[39mself\u001b[39;49m\u001b[39m.\u001b[39;49m_fit(processed_data)\n\u001b[1;32m    422\u001b[0m \u001b[39mself\u001b[39m\u001b[39m.\u001b[39m_fitted \u001b[39m=\u001b[39m \u001b[39mTrue\u001b[39;00m\n\u001b[1;32m    423\u001b[0m \u001b[39mself\u001b[39m\u001b[39m.\u001b[39m_fitted_date \u001b[39m=\u001b[39m datetime\u001b[39m.\u001b[39mdatetime\u001b[39m.\u001b[39mtoday()\u001b[39m.\u001b[39mstrftime(\u001b[39m'\u001b[39m\u001b[39m%\u001b[39m\u001b[39mY-\u001b[39m\u001b[39m%\u001b[39m\u001b[39mm-\u001b[39m\u001b[39m%d\u001b[39;00m\u001b[39m'\u001b[39m)\n",
      "File \u001b[0;32m~/anaconda3/envs/anacondaforarm/lib/python3.9/site-packages/sdv/single_table/ctgan.py:189\u001b[0m, in \u001b[0;36mCTGANSynthesizer._fit\u001b[0;34m(self, processed_data)\u001b[0m\n\u001b[1;32m    183\u001b[0m discrete_columns \u001b[39m=\u001b[39m detect_discrete_columns(\n\u001b[1;32m    184\u001b[0m     \u001b[39mself\u001b[39m\u001b[39m.\u001b[39mget_metadata(),\n\u001b[1;32m    185\u001b[0m     processed_data,\n\u001b[1;32m    186\u001b[0m     transformers\n\u001b[1;32m    187\u001b[0m )\n\u001b[1;32m    188\u001b[0m \u001b[39mself\u001b[39m\u001b[39m.\u001b[39m_model \u001b[39m=\u001b[39m CTGAN(\u001b[39m*\u001b[39m\u001b[39m*\u001b[39m\u001b[39mself\u001b[39m\u001b[39m.\u001b[39m_model_kwargs)\n\u001b[0;32m--> 189\u001b[0m \u001b[39mself\u001b[39;49m\u001b[39m.\u001b[39;49m_model\u001b[39m.\u001b[39;49mfit(processed_data, discrete_columns\u001b[39m=\u001b[39;49mdiscrete_columns)\n",
      "File \u001b[0;32m~/anaconda3/envs/anacondaforarm/lib/python3.9/site-packages/ctgan/synthesizers/base.py:50\u001b[0m, in \u001b[0;36mrandom_state.<locals>.wrapper\u001b[0;34m(self, *args, **kwargs)\u001b[0m\n\u001b[1;32m     48\u001b[0m \u001b[39mdef\u001b[39;00m \u001b[39mwrapper\u001b[39m(\u001b[39mself\u001b[39m, \u001b[39m*\u001b[39margs, \u001b[39m*\u001b[39m\u001b[39m*\u001b[39mkwargs):\n\u001b[1;32m     49\u001b[0m     \u001b[39mif\u001b[39;00m \u001b[39mself\u001b[39m\u001b[39m.\u001b[39mrandom_states \u001b[39mis\u001b[39;00m \u001b[39mNone\u001b[39;00m:\n\u001b[0;32m---> 50\u001b[0m         \u001b[39mreturn\u001b[39;00m function(\u001b[39mself\u001b[39;49m, \u001b[39m*\u001b[39;49margs, \u001b[39m*\u001b[39;49m\u001b[39m*\u001b[39;49mkwargs)\n\u001b[1;32m     52\u001b[0m     \u001b[39melse\u001b[39;00m:\n\u001b[1;32m     53\u001b[0m         \u001b[39mwith\u001b[39;00m set_random_states(\u001b[39mself\u001b[39m\u001b[39m.\u001b[39mrandom_states, \u001b[39mself\u001b[39m\u001b[39m.\u001b[39mset_random_state):\n",
      "File \u001b[0;32m~/anaconda3/envs/anacondaforarm/lib/python3.9/site-packages/ctgan/synthesizers/ctgan.py:305\u001b[0m, in \u001b[0;36mCTGAN.fit\u001b[0;34m(self, train_data, discrete_columns, epochs)\u001b[0m\n\u001b[1;32m    298\u001b[0m     warnings\u001b[39m.\u001b[39mwarn(\n\u001b[1;32m    299\u001b[0m         (\u001b[39m'\u001b[39m\u001b[39m`epochs` argument in `fit` method has been deprecated and will be removed \u001b[39m\u001b[39m'\u001b[39m\n\u001b[1;32m    300\u001b[0m          \u001b[39m'\u001b[39m\u001b[39min a future version. Please pass `epochs` to the constructor instead\u001b[39m\u001b[39m'\u001b[39m),\n\u001b[1;32m    301\u001b[0m         \u001b[39mDeprecationWarning\u001b[39;00m\n\u001b[1;32m    302\u001b[0m     )\n\u001b[1;32m    304\u001b[0m \u001b[39mself\u001b[39m\u001b[39m.\u001b[39m_transformer \u001b[39m=\u001b[39m DataTransformer()\n\u001b[0;32m--> 305\u001b[0m \u001b[39mself\u001b[39;49m\u001b[39m.\u001b[39;49m_transformer\u001b[39m.\u001b[39;49mfit(train_data, discrete_columns)\n\u001b[1;32m    307\u001b[0m train_data \u001b[39m=\u001b[39m \u001b[39mself\u001b[39m\u001b[39m.\u001b[39m_transformer\u001b[39m.\u001b[39mtransform(train_data)\n\u001b[1;32m    309\u001b[0m \u001b[39mself\u001b[39m\u001b[39m.\u001b[39m_data_sampler \u001b[39m=\u001b[39m DataSampler(\n\u001b[1;32m    310\u001b[0m     train_data,\n\u001b[1;32m    311\u001b[0m     \u001b[39mself\u001b[39m\u001b[39m.\u001b[39m_transformer\u001b[39m.\u001b[39moutput_info_list,\n\u001b[1;32m    312\u001b[0m     \u001b[39mself\u001b[39m\u001b[39m.\u001b[39m_log_frequency)\n",
      "File \u001b[0;32m~/anaconda3/envs/anacondaforarm/lib/python3.9/site-packages/ctgan/data_transformer.py:108\u001b[0m, in \u001b[0;36mDataTransformer.fit\u001b[0;34m(self, raw_data, discrete_columns)\u001b[0m\n\u001b[1;32m    106\u001b[0m     column_transform_info \u001b[39m=\u001b[39m \u001b[39mself\u001b[39m\u001b[39m.\u001b[39m_fit_discrete(raw_data[[column_name]])\n\u001b[1;32m    107\u001b[0m \u001b[39melse\u001b[39;00m:\n\u001b[0;32m--> 108\u001b[0m     column_transform_info \u001b[39m=\u001b[39m \u001b[39mself\u001b[39;49m\u001b[39m.\u001b[39;49m_fit_continuous(raw_data[[column_name]])\n\u001b[1;32m    110\u001b[0m \u001b[39mself\u001b[39m\u001b[39m.\u001b[39moutput_info_list\u001b[39m.\u001b[39mappend(column_transform_info\u001b[39m.\u001b[39moutput_info)\n\u001b[1;32m    111\u001b[0m \u001b[39mself\u001b[39m\u001b[39m.\u001b[39moutput_dimensions \u001b[39m+\u001b[39m\u001b[39m=\u001b[39m column_transform_info\u001b[39m.\u001b[39moutput_dimensions\n",
      "File \u001b[0;32m~/anaconda3/envs/anacondaforarm/lib/python3.9/site-packages/ctgan/data_transformer.py:54\u001b[0m, in \u001b[0;36mDataTransformer._fit_continuous\u001b[0;34m(self, data)\u001b[0m\n\u001b[1;32m     48\u001b[0m column_name \u001b[39m=\u001b[39m data\u001b[39m.\u001b[39mcolumns[\u001b[39m0\u001b[39m]\n\u001b[1;32m     49\u001b[0m gm \u001b[39m=\u001b[39m ClusterBasedNormalizer(\n\u001b[1;32m     50\u001b[0m     missing_value_generation\u001b[39m=\u001b[39m\u001b[39m'\u001b[39m\u001b[39mfrom_column\u001b[39m\u001b[39m'\u001b[39m,\n\u001b[1;32m     51\u001b[0m     max_clusters\u001b[39m=\u001b[39m\u001b[39mmin\u001b[39m(\u001b[39mlen\u001b[39m(data), \u001b[39mself\u001b[39m\u001b[39m.\u001b[39m_max_clusters),\n\u001b[1;32m     52\u001b[0m     weight_threshold\u001b[39m=\u001b[39m\u001b[39mself\u001b[39m\u001b[39m.\u001b[39m_weight_threshold\n\u001b[1;32m     53\u001b[0m )\n\u001b[0;32m---> 54\u001b[0m gm\u001b[39m.\u001b[39;49mfit(data, column_name)\n\u001b[1;32m     55\u001b[0m num_components \u001b[39m=\u001b[39m \u001b[39msum\u001b[39m(gm\u001b[39m.\u001b[39mvalid_component_indicator)\n\u001b[1;32m     57\u001b[0m \u001b[39mreturn\u001b[39;00m ColumnTransformInfo(\n\u001b[1;32m     58\u001b[0m     column_name\u001b[39m=\u001b[39mcolumn_name, column_type\u001b[39m=\u001b[39m\u001b[39m'\u001b[39m\u001b[39mcontinuous\u001b[39m\u001b[39m'\u001b[39m, transform\u001b[39m=\u001b[39mgm,\n\u001b[1;32m     59\u001b[0m     output_info\u001b[39m=\u001b[39m[SpanInfo(\u001b[39m1\u001b[39m, \u001b[39m'\u001b[39m\u001b[39mtanh\u001b[39m\u001b[39m'\u001b[39m), SpanInfo(num_components, \u001b[39m'\u001b[39m\u001b[39msoftmax\u001b[39m\u001b[39m'\u001b[39m)],\n\u001b[1;32m     60\u001b[0m     output_dimensions\u001b[39m=\u001b[39m\u001b[39m1\u001b[39m \u001b[39m+\u001b[39m num_components)\n",
      "File \u001b[0;32m~/anaconda3/envs/anacondaforarm/lib/python3.9/site-packages/rdt/transformers/base.py:55\u001b[0m, in \u001b[0;36mrandom_state.<locals>.wrapper\u001b[0;34m(self, *args, **kwargs)\u001b[0m\n\u001b[1;32m     53\u001b[0m method_name \u001b[39m=\u001b[39m function\u001b[39m.\u001b[39m\u001b[39m__name__\u001b[39m\n\u001b[1;32m     54\u001b[0m \u001b[39mwith\u001b[39;00m set_random_states(\u001b[39mself\u001b[39m\u001b[39m.\u001b[39mrandom_states, method_name, \u001b[39mself\u001b[39m\u001b[39m.\u001b[39mset_random_state):\n\u001b[0;32m---> 55\u001b[0m     \u001b[39mreturn\u001b[39;00m function(\u001b[39mself\u001b[39;49m, \u001b[39m*\u001b[39;49margs, \u001b[39m*\u001b[39;49m\u001b[39m*\u001b[39;49mkwargs)\n",
      "File \u001b[0;32m~/anaconda3/envs/anacondaforarm/lib/python3.9/site-packages/rdt/transformers/base.py:390\u001b[0m, in \u001b[0;36mBaseTransformer.fit\u001b[0;34m(self, data, column)\u001b[0m\n\u001b[1;32m    388\u001b[0m \u001b[39mself\u001b[39m\u001b[39m.\u001b[39m_set_seed(data)\n\u001b[1;32m    389\u001b[0m columns_data \u001b[39m=\u001b[39m \u001b[39mself\u001b[39m\u001b[39m.\u001b[39m_get_columns_data(data, \u001b[39mself\u001b[39m\u001b[39m.\u001b[39mcolumns)\n\u001b[0;32m--> 390\u001b[0m \u001b[39mself\u001b[39;49m\u001b[39m.\u001b[39;49m_fit(columns_data)\n\u001b[1;32m    391\u001b[0m \u001b[39mself\u001b[39m\u001b[39m.\u001b[39m_build_output_columns(data)\n",
      "File \u001b[0;32m~/anaconda3/envs/anacondaforarm/lib/python3.9/site-packages/rdt/transformers/numerical.py:503\u001b[0m, in \u001b[0;36mClusterBasedNormalizer._fit\u001b[0;34m(self, data)\u001b[0m\n\u001b[1;32m    501\u001b[0m \u001b[39mwith\u001b[39;00m warnings\u001b[39m.\u001b[39mcatch_warnings():\n\u001b[1;32m    502\u001b[0m     warnings\u001b[39m.\u001b[39msimplefilter(\u001b[39m'\u001b[39m\u001b[39mignore\u001b[39m\u001b[39m'\u001b[39m)\n\u001b[0;32m--> 503\u001b[0m     \u001b[39mself\u001b[39;49m\u001b[39m.\u001b[39;49m_bgm_transformer\u001b[39m.\u001b[39;49mfit(data\u001b[39m.\u001b[39;49mreshape(\u001b[39m-\u001b[39;49m\u001b[39m1\u001b[39;49m, \u001b[39m1\u001b[39;49m))\n\u001b[1;32m    505\u001b[0m \u001b[39mself\u001b[39m\u001b[39m.\u001b[39mvalid_component_indicator \u001b[39m=\u001b[39m \u001b[39mself\u001b[39m\u001b[39m.\u001b[39m_bgm_transformer\u001b[39m.\u001b[39mweights_ \u001b[39m>\u001b[39m \u001b[39mself\u001b[39m\u001b[39m.\u001b[39mweight_threshold\n",
      "File \u001b[0;32m~/anaconda3/envs/anacondaforarm/lib/python3.9/site-packages/sklearn/mixture/_base.py:181\u001b[0m, in \u001b[0;36mBaseMixture.fit\u001b[0;34m(self, X, y)\u001b[0m\n\u001b[1;32m    155\u001b[0m \u001b[39m\u001b[39m\u001b[39m\"\"\"Estimate model parameters with the EM algorithm.\u001b[39;00m\n\u001b[1;32m    156\u001b[0m \n\u001b[1;32m    157\u001b[0m \u001b[39mThe method fits the model ``n_init`` times and sets the parameters with\u001b[39;00m\n\u001b[0;32m   (...)\u001b[0m\n\u001b[1;32m    178\u001b[0m \u001b[39m    The fitted mixture.\u001b[39;00m\n\u001b[1;32m    179\u001b[0m \u001b[39m\"\"\"\u001b[39;00m\n\u001b[1;32m    180\u001b[0m \u001b[39m# parameters are validated in fit_predict\u001b[39;00m\n\u001b[0;32m--> 181\u001b[0m \u001b[39mself\u001b[39;49m\u001b[39m.\u001b[39;49mfit_predict(X, y)\n\u001b[1;32m    182\u001b[0m \u001b[39mreturn\u001b[39;00m \u001b[39mself\u001b[39m\n",
      "File \u001b[0;32m~/anaconda3/envs/anacondaforarm/lib/python3.9/site-packages/sklearn/base.py:1152\u001b[0m, in \u001b[0;36m_fit_context.<locals>.decorator.<locals>.wrapper\u001b[0;34m(estimator, *args, **kwargs)\u001b[0m\n\u001b[1;32m   1145\u001b[0m     estimator\u001b[39m.\u001b[39m_validate_params()\n\u001b[1;32m   1147\u001b[0m \u001b[39mwith\u001b[39;00m config_context(\n\u001b[1;32m   1148\u001b[0m     skip_parameter_validation\u001b[39m=\u001b[39m(\n\u001b[1;32m   1149\u001b[0m         prefer_skip_nested_validation \u001b[39mor\u001b[39;00m global_skip_validation\n\u001b[1;32m   1150\u001b[0m     )\n\u001b[1;32m   1151\u001b[0m ):\n\u001b[0;32m-> 1152\u001b[0m     \u001b[39mreturn\u001b[39;00m fit_method(estimator, \u001b[39m*\u001b[39;49margs, \u001b[39m*\u001b[39;49m\u001b[39m*\u001b[39;49mkwargs)\n",
      "File \u001b[0;32m~/anaconda3/envs/anacondaforarm/lib/python3.9/site-packages/sklearn/mixture/_base.py:247\u001b[0m, in \u001b[0;36mBaseMixture.fit_predict\u001b[0;34m(self, X, y)\u001b[0m\n\u001b[1;32m    244\u001b[0m prev_lower_bound \u001b[39m=\u001b[39m lower_bound\n\u001b[1;32m    246\u001b[0m log_prob_norm, log_resp \u001b[39m=\u001b[39m \u001b[39mself\u001b[39m\u001b[39m.\u001b[39m_e_step(X)\n\u001b[0;32m--> 247\u001b[0m \u001b[39mself\u001b[39;49m\u001b[39m.\u001b[39;49m_m_step(X, log_resp)\n\u001b[1;32m    248\u001b[0m lower_bound \u001b[39m=\u001b[39m \u001b[39mself\u001b[39m\u001b[39m.\u001b[39m_compute_lower_bound(log_resp, log_prob_norm)\n\u001b[1;32m    250\u001b[0m change \u001b[39m=\u001b[39m lower_bound \u001b[39m-\u001b[39m prev_lower_bound\n",
      "File \u001b[0;32m~/anaconda3/envs/anacondaforarm/lib/python3.9/site-packages/sklearn/mixture/_bayesian_mixture.py:735\u001b[0m, in \u001b[0;36mBayesianGaussianMixture._m_step\u001b[0;34m(self, X, log_resp)\u001b[0m\n\u001b[1;32m    723\u001b[0m \u001b[39m\u001b[39m\u001b[39m\"\"\"M step.\u001b[39;00m\n\u001b[1;32m    724\u001b[0m \n\u001b[1;32m    725\u001b[0m \u001b[39mParameters\u001b[39;00m\n\u001b[0;32m   (...)\u001b[0m\n\u001b[1;32m    731\u001b[0m \u001b[39m    the point of each sample in X.\u001b[39;00m\n\u001b[1;32m    732\u001b[0m \u001b[39m\"\"\"\u001b[39;00m\n\u001b[1;32m    733\u001b[0m n_samples, _ \u001b[39m=\u001b[39m X\u001b[39m.\u001b[39mshape\n\u001b[0;32m--> 735\u001b[0m nk, xk, sk \u001b[39m=\u001b[39m _estimate_gaussian_parameters(\n\u001b[1;32m    736\u001b[0m     X, np\u001b[39m.\u001b[39;49mexp(log_resp), \u001b[39mself\u001b[39;49m\u001b[39m.\u001b[39;49mreg_covar, \u001b[39mself\u001b[39;49m\u001b[39m.\u001b[39;49mcovariance_type\n\u001b[1;32m    737\u001b[0m )\n\u001b[1;32m    738\u001b[0m \u001b[39mself\u001b[39m\u001b[39m.\u001b[39m_estimate_weights(nk)\n\u001b[1;32m    739\u001b[0m \u001b[39mself\u001b[39m\u001b[39m.\u001b[39m_estimate_means(nk, xk)\n",
      "File \u001b[0;32m~/anaconda3/envs/anacondaforarm/lib/python3.9/site-packages/sklearn/mixture/_gaussian_mixture.py:289\u001b[0m, in \u001b[0;36m_estimate_gaussian_parameters\u001b[0;34m(X, resp, reg_covar, covariance_type)\u001b[0m\n\u001b[1;32m    260\u001b[0m \u001b[39m\u001b[39m\u001b[39m\"\"\"Estimate the Gaussian distribution parameters.\u001b[39;00m\n\u001b[1;32m    261\u001b[0m \n\u001b[1;32m    262\u001b[0m \u001b[39mParameters\u001b[39;00m\n\u001b[0;32m   (...)\u001b[0m\n\u001b[1;32m    286\u001b[0m \u001b[39m    The shape depends of the covariance_type.\u001b[39;00m\n\u001b[1;32m    287\u001b[0m \u001b[39m\"\"\"\u001b[39;00m\n\u001b[1;32m    288\u001b[0m nk \u001b[39m=\u001b[39m resp\u001b[39m.\u001b[39msum(axis\u001b[39m=\u001b[39m\u001b[39m0\u001b[39m) \u001b[39m+\u001b[39m \u001b[39m10\u001b[39m \u001b[39m*\u001b[39m np\u001b[39m.\u001b[39mfinfo(resp\u001b[39m.\u001b[39mdtype)\u001b[39m.\u001b[39meps\n\u001b[0;32m--> 289\u001b[0m means \u001b[39m=\u001b[39m np\u001b[39m.\u001b[39;49mdot(resp\u001b[39m.\u001b[39;49mT, X) \u001b[39m/\u001b[39m nk[:, np\u001b[39m.\u001b[39mnewaxis]\n\u001b[1;32m    290\u001b[0m covariances \u001b[39m=\u001b[39m {\n\u001b[1;32m    291\u001b[0m     \u001b[39m\"\u001b[39m\u001b[39mfull\u001b[39m\u001b[39m\"\u001b[39m: _estimate_gaussian_covariances_full,\n\u001b[1;32m    292\u001b[0m     \u001b[39m\"\u001b[39m\u001b[39mtied\u001b[39m\u001b[39m\"\u001b[39m: _estimate_gaussian_covariances_tied,\n\u001b[1;32m    293\u001b[0m     \u001b[39m\"\u001b[39m\u001b[39mdiag\u001b[39m\u001b[39m\"\u001b[39m: _estimate_gaussian_covariances_diag,\n\u001b[1;32m    294\u001b[0m     \u001b[39m\"\u001b[39m\u001b[39mspherical\u001b[39m\u001b[39m\"\u001b[39m: _estimate_gaussian_covariances_spherical,\n\u001b[1;32m    295\u001b[0m }[covariance_type](resp, X, nk, means, reg_covar)\n\u001b[1;32m    296\u001b[0m \u001b[39mreturn\u001b[39;00m nk, means, covariances\n",
      "\u001b[0;31mKeyboardInterrupt\u001b[0m: "
     ]
    }
   ],
   "source": [
    "synthesizer.fit(data)\n",
    "synthesizer.save(\"ctgan_augmenter.pkl\")\n"
   ]
  },
  {
   "cell_type": "code",
   "execution_count": null,
   "metadata": {},
   "outputs": [],
   "source": [
    "# Generieren von augmentierten Daten\n",
    "synthetic_data = synthesizer.sample(\n",
    "    num_rows=10000\n",
    "    #,batch_size=10\n",
    ")\n",
    "synthetic_data.to_csv(\"synthetic_data.csv\")"
   ]
  },
  {
   "cell_type": "code",
   "execution_count": null,
   "metadata": {},
   "outputs": [],
   "source": [
    "# Evaluierung der augmentierten Daten\n",
    "print(data.shape, synthetic_data.shape)\n",
    "table_evaluator =  TableEvaluator(data, synthetic_data)\n",
    "table_evaluator.evaluate(target_col=\"is_damaged\")"
   ]
  },
  {
   "cell_type": "code",
   "execution_count": null,
   "metadata": {},
   "outputs": [],
   "source": [
    "#Visualierung\n",
    "table_evaluator.visual_evaluation()"
   ]
  }
 ],
 "metadata": {
  "kernelspec": {
   "display_name": "anacondaforarm",
   "language": "python",
   "name": "python3"
  },
  "language_info": {
   "codemirror_mode": {
    "name": "ipython",
    "version": 3
   },
   "file_extension": ".py",
   "mimetype": "text/x-python",
   "name": "python",
   "nbconvert_exporter": "python",
   "pygments_lexer": "ipython3",
   "version": "3.9.16"
  },
  "orig_nbformat": 4
 },
 "nbformat": 4,
 "nbformat_minor": 2
}
